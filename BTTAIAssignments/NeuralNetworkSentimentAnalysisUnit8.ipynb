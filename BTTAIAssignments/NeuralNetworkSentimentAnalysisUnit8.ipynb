{
 "cells": [
  {
   "cell_type": "markdown",
   "metadata": {},
   "source": [
    "# Assignment 8: Implement a Neural Network for Sentiment Analysis"
   ]
  },
  {
   "cell_type": "code",
   "execution_count": 47,
   "metadata": {},
   "outputs": [],
   "source": [
    "import pandas as pd\n",
    "import numpy as np\n",
    "import os \n",
    "os.environ[\"TF_CPP_MIN_LOG_LEVEL\"] = \"2\" # suppress info and warning messages\n",
    "import matplotlib.pyplot as plt\n",
    "import seaborn as sns\n",
    "from sklearn.feature_extraction.text import TfidfVectorizer\n",
    "from sklearn.model_selection import train_test_split\n",
    "import tensorflow.keras as keras\n",
    "import time"
   ]
  },
  {
   "cell_type": "markdown",
   "metadata": {},
   "source": [
    "In this assignment, you will implement a feedforward neural network that performs sentiment classification.\n",
    "You will complete the following tasks:\n",
    "    \n",
    "1. Build your DataFrame and define your ML problem:\n",
    "    * Load the book review data set\n",
    "    * Define the label - what are you predicting?\n",
    "    * Identify the features\n",
    "2. Create labeled examples from the data set\n",
    "3. Split the data into training and test data sets\n",
    "4. Transform the training and test text data using a TF-IDF vectorizer. \n",
    "5. Construct a neural network\n",
    "6. Train the neural network\n",
    "7. Compare the neural network model's performance on the training and validation data.\n",
    "8. Improve the model's generalization performance.\n",
    "9. Evaluate the model's performance on the test data.\n",
    "10. Experiment with ways to improve the model.\n",
    "\n",
    "For this assignment, use the demo <i>Transforming Text into Features for Sentiment Analysis</i> that is contained in this unit as a reference.\n",
    "\n",
    "**<font color='red'>Note: some of the code cells in this notebook may take a while to run</font>**"
   ]
  },
  {
   "cell_type": "markdown",
   "metadata": {},
   "source": [
    "## Part 1. Build Your DataFrame and Define Your ML Problem\n",
    "\n",
    "\n",
    "#### Load a Data Set and Save it as a Pandas DataFrame\n",
    "\n",
    "We will work with the book review data set that contains book reviews taken from Amazon.com reviews.\n",
    "\n",
    "<b>Task</b>: In the code cell below, use the same method you have been using to load the data using `pd.read_csv()` and save it to DataFrame `df`.\n",
    "\n",
    "You will be working with the file named \"bookReviews.csv\" that is located in a folder named \"data_NLP\"."
   ]
  },
  {
   "cell_type": "code",
   "execution_count": 48,
   "metadata": {},
   "outputs": [],
   "source": [
    "filename = os.path.join(os.getcwd(), \"data_NLP\", \"bookReviews.csv\")\n",
    "df = pd.read_csv(filename, header=0)"
   ]
  },
  {
   "cell_type": "markdown",
   "metadata": {},
   "source": [
    "#### Inspect the Data\n",
    "\n",
    "<b>Task</b>: In the code cell below, inspect the data in DataFrame `df` by printing the number of rows and columns, the column names, and the first ten rows. You may perform any other techniques you'd like to inspect the data."
   ]
  },
  {
   "cell_type": "code",
   "execution_count": 49,
   "metadata": {},
   "outputs": [
    {
     "data": {
      "text/html": [
       "<div>\n",
       "<style scoped>\n",
       "    .dataframe tbody tr th:only-of-type {\n",
       "        vertical-align: middle;\n",
       "    }\n",
       "\n",
       "    .dataframe tbody tr th {\n",
       "        vertical-align: top;\n",
       "    }\n",
       "\n",
       "    .dataframe thead th {\n",
       "        text-align: right;\n",
       "    }\n",
       "</style>\n",
       "<table border=\"1\" class=\"dataframe\">\n",
       "  <thead>\n",
       "    <tr style=\"text-align: right;\">\n",
       "      <th></th>\n",
       "      <th>Review</th>\n",
       "      <th>Positive Review</th>\n",
       "    </tr>\n",
       "  </thead>\n",
       "  <tbody>\n",
       "    <tr>\n",
       "      <th>0</th>\n",
       "      <td>This was perhaps the best of Johannes Steinhof...</td>\n",
       "      <td>True</td>\n",
       "    </tr>\n",
       "    <tr>\n",
       "      <th>1</th>\n",
       "      <td>This very fascinating book is a story written ...</td>\n",
       "      <td>True</td>\n",
       "    </tr>\n",
       "    <tr>\n",
       "      <th>2</th>\n",
       "      <td>The four tales in this collection are beautifu...</td>\n",
       "      <td>True</td>\n",
       "    </tr>\n",
       "    <tr>\n",
       "      <th>3</th>\n",
       "      <td>The book contained more profanity than I expec...</td>\n",
       "      <td>False</td>\n",
       "    </tr>\n",
       "    <tr>\n",
       "      <th>4</th>\n",
       "      <td>We have now entered a second time of deep conc...</td>\n",
       "      <td>True</td>\n",
       "    </tr>\n",
       "    <tr>\n",
       "      <th>5</th>\n",
       "      <td>I don't know why it won the National Book Awar...</td>\n",
       "      <td>False</td>\n",
       "    </tr>\n",
       "    <tr>\n",
       "      <th>6</th>\n",
       "      <td>The daughter of a prominent Boston doctor is d...</td>\n",
       "      <td>False</td>\n",
       "    </tr>\n",
       "    <tr>\n",
       "      <th>7</th>\n",
       "      <td>I was very disapointed in the book.Basicly the...</td>\n",
       "      <td>False</td>\n",
       "    </tr>\n",
       "    <tr>\n",
       "      <th>8</th>\n",
       "      <td>I think in retrospect I wasted my time on this...</td>\n",
       "      <td>False</td>\n",
       "    </tr>\n",
       "    <tr>\n",
       "      <th>9</th>\n",
       "      <td>I have a hard time understanding what it is th...</td>\n",
       "      <td>False</td>\n",
       "    </tr>\n",
       "  </tbody>\n",
       "</table>\n",
       "</div>"
      ],
      "text/plain": [
       "                                              Review  Positive Review\n",
       "0  This was perhaps the best of Johannes Steinhof...             True\n",
       "1  This very fascinating book is a story written ...             True\n",
       "2  The four tales in this collection are beautifu...             True\n",
       "3  The book contained more profanity than I expec...            False\n",
       "4  We have now entered a second time of deep conc...             True\n",
       "5  I don't know why it won the National Book Awar...            False\n",
       "6  The daughter of a prominent Boston doctor is d...            False\n",
       "7  I was very disapointed in the book.Basicly the...            False\n",
       "8  I think in retrospect I wasted my time on this...            False\n",
       "9  I have a hard time understanding what it is th...            False"
      ]
     },
     "execution_count": 49,
     "metadata": {},
     "output_type": "execute_result"
    }
   ],
   "source": [
    "df.head(10)"
   ]
  },
  {
   "cell_type": "code",
   "execution_count": 50,
   "metadata": {},
   "outputs": [
    {
     "data": {
      "text/plain": [
       "(1973, 2)"
      ]
     },
     "execution_count": 50,
     "metadata": {},
     "output_type": "execute_result"
    }
   ],
   "source": [
    "df.shape"
   ]
  },
  {
   "cell_type": "code",
   "execution_count": 51,
   "metadata": {},
   "outputs": [
    {
     "data": {
      "text/plain": [
       "Index(['Review', 'Positive Review'], dtype='object')"
      ]
     },
     "execution_count": 51,
     "metadata": {},
     "output_type": "execute_result"
    }
   ],
   "source": [
    "df.columns"
   ]
  },
  {
   "cell_type": "markdown",
   "metadata": {},
   "source": [
    "#### Define the Label\n",
    "\n",
    "This is a binary classification problem in which we will predict whether a book review is a positive or negative one. The label is the `Positive Review` column.\n",
    "\n",
    "#### Identify Features\n",
    "\n",
    "We only have one feature. The feature is the `Review` column.\n"
   ]
  },
  {
   "cell_type": "markdown",
   "metadata": {},
   "source": [
    "## Part 2. Create Labeled Examples from the Data Set \n",
    "\n",
    "<b>Task</b>: In the code cell below, create labeled examples from DataFrame `df`. Assign the label to the variable `y`. Assign the feature to the variable `X`. "
   ]
  },
  {
   "cell_type": "code",
   "execution_count": 52,
   "metadata": {},
   "outputs": [],
   "source": [
    "y = df['Positive Review']\n",
    "X = df['Review']"
   ]
  },
  {
   "cell_type": "markdown",
   "metadata": {},
   "source": [
    "## Part 3. Create Training and Test Data Sets\n",
    "\n",
    "<b>Task</b>: In the code cell below, create training and test sets out of the labeled examples. Create a test set that is 25 percent of the size of the data set. Save the results to variables `X_train, X_test, y_train, y_test`.\n"
   ]
  },
  {
   "cell_type": "code",
   "execution_count": 53,
   "metadata": {},
   "outputs": [],
   "source": [
    "X_train, X_test, y_train, y_test = train_test_split(X, y, test_size=0.25, random_state=42)"
   ]
  },
  {
   "cell_type": "markdown",
   "metadata": {},
   "source": [
    "## Part 4:  Implement TF-IDF Vectorizer to Transform Text\n"
   ]
  },
  {
   "cell_type": "markdown",
   "metadata": {},
   "source": [
    "In the code cell below, you will transform the features into numerical vectors using `TfidfVectorizer`. \n",
    "\n",
    "\n",
    "<b>Task:</b> Follow the steps to complete the code in the cell below:\n",
    "\n",
    "1. Create a `TfidfVectorizer` object and save it to the variable `tfidf_vectorizer`.\n",
    "\n",
    "2. Call `tfidf_vectorizer.fit()` to fit the vectorizer to the training data `X_train`.\n",
    "\n",
    "3. Call the `tfidf_vectorizer.transform()` method to use the fitted vectorizer to transform the training data `X_train`. Save the result to `X_train_tfidf`.\n",
    "\n",
    "4. Call the `tfidf_vectorizer.transform()` method to use the fitted vectorizer to transform the test data `X_test`. Save the result to `X_test_tfidf`."
   ]
  },
  {
   "cell_type": "code",
   "execution_count": 55,
   "metadata": {},
   "outputs": [
    {
     "name": "stdout",
     "output_type": "stream",
     "text": [
      "X_train_tfidf shape: (1479, 18243)\n",
      "X_test_tfidf shape: (494, 18243)\n",
      "Vocabulary size: 18243\n"
     ]
    }
   ],
   "source": [
    "# 1. Create a TfidfVectorizer object\n",
    "tfidf_vectorizer = TfidfVectorizer(stop_words='english', min_df=1)\n",
    "\n",
    "# 2. Fit the vectorizer to X_train\n",
    "tfidf_vectorizer.fit(X_train)\n",
    "\n",
    "\n",
    "# 3. Using the fitted vectorizer, transform the training data\n",
    "X_train_tfidf = tfidf_vectorizer.transform(X_train)\n",
    "\n",
    "\n",
    "# 4. Using the fitted vectorizer, transform the test data\n",
    "X_test_tfidf = tfidf_vectorizer.transform(X_test)\n",
    "\n",
    "# Print results\n",
    "print(f\"X_train_tfidf shape: {X_train_tfidf.shape}\")\n",
    "print(f\"X_test_tfidf shape: {X_test_tfidf.shape}\")\n",
    "print(f\"Vocabulary size: {len(tfidf_vectorizer.get_feature_names_out())}\")\n"
   ]
  },
  {
   "cell_type": "markdown",
   "metadata": {},
   "source": [
    "When constructing our neural network, we will have to specify the `input_shape`, meaning the dimensionality of the input layer. This corresponds to the dimension of each of the training examples, which in our case is our vocabulary size. Run the code cell below to see the vocabulary size.\n"
   ]
  },
  {
   "cell_type": "code",
   "execution_count": 56,
   "metadata": {},
   "outputs": [
    {
     "name": "stdout",
     "output_type": "stream",
     "text": [
      "18243\n"
     ]
    }
   ],
   "source": [
    "vocabulary_size = len(tfidf_vectorizer.vocabulary_)\n",
    "\n",
    "print(vocabulary_size)"
   ]
  },
  {
   "cell_type": "markdown",
   "metadata": {},
   "source": [
    "## Part 5: Construct a Neural Network\n"
   ]
  },
  {
   "cell_type": "markdown",
   "metadata": {},
   "source": [
    "### Step 1.  Define Model Structure\n",
    "\n",
    "Next we will create our neural network structure. We will create an input layer, three hidden layers and an output layer:\n",
    "\n",
    "* <b>Input layer</b>: The input layer will have the input shape corresponding to the vocabulary size. \n",
    "* <b>Hidden layers</b>: We will create three hidden layers, with 64, 32, and 16 units (number of nodes) respectively. Each layer will utilize the ReLU activation function. \n",
    "* <b>Output layer</b>: The output layer will have 1 unit. The output layer will utilize the sigmoid activation function. Since we are working with binary classification, we will be using the sigmoid activation function to map the output to a probability between 0.0 and 1.0. We can later set a threshold and assume that the prediction is class 1 if the probability is larger than or equal to our threshold, or class 0 if it is lower than our threshold.\n",
    "\n",
    "Use the same approach you have taken in this course to construct a feedforward neural network model using Keras. Do the following:\n",
    "\n",
    "* Use the Keras [`Sequential` class](https://keras.io/api/models/sequential/#sequential-class) to group a stack of layers. This will be our neural network model object. Name your neural network model object ```nn_model```.    \n",
    "* Use the [`InputLayer` class](https://www.tensorflow.org/api_docs/python/tf/keras/layers/InputLayer) to create the input layer. \n",
    "* Use the [`Dense` class](https://keras.io/api/layers/core_layers/dense/) to create each hidden layer and the output layer.\n",
    "* After creating each layer, add it to the neural network model object ```nn_model```.\n"
   ]
  },
  {
   "cell_type": "code",
   "execution_count": 57,
   "metadata": {},
   "outputs": [
    {
     "name": "stdout",
     "output_type": "stream",
     "text": [
      "Model: \"sequential_3\"\n",
      "_________________________________________________________________\n",
      "Layer (type)                 Output Shape              Param #   \n",
      "=================================================================\n",
      "dense_14 (Dense)             (None, 64)                1167616   \n",
      "_________________________________________________________________\n",
      "dense_15 (Dense)             (None, 32)                2080      \n",
      "_________________________________________________________________\n",
      "dense_16 (Dense)             (None, 16)                528       \n",
      "_________________________________________________________________\n",
      "dense_17 (Dense)             (None, 1)                 17        \n",
      "=================================================================\n",
      "Total params: 1,170,241\n",
      "Trainable params: 1,170,241\n",
      "Non-trainable params: 0\n",
      "_________________________________________________________________\n"
     ]
    }
   ],
   "source": [
    "# 1. Create model object\n",
    "nn_model = keras.Sequential()\n",
    "\n",
    "\n",
    "# 2. Create the input layer and add it to the model object: \n",
    "input_layer = keras.layers.InputLayer(input_shape=(vocabulary_size,))\n",
    "\n",
    "nn_model.add(input_layer)\n",
    "\n",
    "\n",
    "# 3. Create the first hidden layer and add it to the model object:\n",
    "hidden_layer_1 = keras.layers.Dense(units=64, activation='relu')\n",
    "\n",
    "nn_model.add(hidden_layer_1)\n",
    "\n",
    "\n",
    "# 4. Create the second layer and add it to the model object:\n",
    "hidden_layer_2 = keras.layers.Dense(units=32, activation='relu')\n",
    "\n",
    "nn_model.add(hidden_layer_2)\n",
    "\n",
    "\n",
    "# 5. Create the third layer and add it to the model object:\n",
    "hidden_layer_3 = keras.layers.Dense(units=16, activation='relu')\n",
    "\n",
    "nn_model.add(hidden_layer_3)\n",
    "\n",
    "\n",
    "# 6. Create the output layer and add it to the model object:\n",
    "output_layer = keras.layers.Dense(units=1, activation='sigmoid')\n",
    "nn_model.add(output_layer)\n",
    "\n",
    "\n",
    "# Print summary of neural network model structure\n",
    "nn_model.summary()"
   ]
  },
  {
   "cell_type": "markdown",
   "metadata": {},
   "source": [
    "### Step 2. Define the Optimization Function\n",
    "\n",
    "<b>Task:</b> In the code cell below, create a stochastic gradient descent optimizer using  `keras.optimizers.SGD()`. Specify a learning rate of 0.1. Assign the result to the variable`sgd_optimizer`."
   ]
  },
  {
   "cell_type": "code",
   "execution_count": 58,
   "metadata": {},
   "outputs": [],
   "source": [
    "sgd_optimizer = keras.optimizers.SGD(learning_rate=0.1)"
   ]
  },
  {
   "cell_type": "markdown",
   "metadata": {},
   "source": [
    "### Step 3. Define the Loss Function\n",
    "\n",
    "<b>Task:</b> In the code cell below, create a binary cross entropy loss function using `keras.losses.BinaryCrossentropy()`. Since our output will be a normalized probability between 0 and 1, specify that `from_logits` is `False`. Assign the result to the variable  `loss_fn`."
   ]
  },
  {
   "cell_type": "code",
   "execution_count": 59,
   "metadata": {},
   "outputs": [],
   "source": [
    "loss_fn = keras.losses.BinaryCrossentropy(from_logits=False)"
   ]
  },
  {
   "cell_type": "markdown",
   "metadata": {},
   "source": [
    "### Step 4. Compile the Model\n",
    "\n",
    "<b>Task:</b> In the code cell below, package the network architecture with the optimizer and the loss function using the `nn_model.compile()` method. Specify the optimizer, loss function and the accuracy evaluation metric as arguments."
   ]
  },
  {
   "cell_type": "code",
   "execution_count": 60,
   "metadata": {},
   "outputs": [],
   "source": [
    "nn_model.compile(optimizer=sgd_optimizer, loss=loss_fn, metrics=['accuracy'])"
   ]
  },
  {
   "cell_type": "markdown",
   "metadata": {},
   "source": [
    "## Part 6. Fit the Model on the Training Data"
   ]
  },
  {
   "cell_type": "markdown",
   "metadata": {},
   "source": [
    "We will define our own callback class to output information from our model while it is training. Make sure you execute the code cell below so that it can be used in subsequent cells."
   ]
  },
  {
   "cell_type": "code",
   "execution_count": 61,
   "metadata": {},
   "outputs": [],
   "source": [
    "class ProgBarLoggerNEpochs(keras.callbacks.Callback):\n",
    "    \n",
    "    def __init__(self, num_epochs: int, every_n: int = 50):\n",
    "        self.num_epochs = num_epochs\n",
    "        self.every_n = every_n\n",
    "    \n",
    "    def on_epoch_end(self, epoch, logs=None):\n",
    "        if (epoch + 1) % self.every_n == 0:\n",
    "            s = 'Epoch [{}/ {}]'.format(epoch + 1, self.num_epochs)\n",
    "            logs_s = ['{}: {:.4f}'.format(k.capitalize(), v)\n",
    "                      for k, v in logs.items()]\n",
    "            s_list = [s] + logs_s\n",
    "            print(', '.join(s_list))\n"
   ]
  },
  {
   "cell_type": "markdown",
   "metadata": {},
   "source": [
    "<b>Task:</b> In the code cell below, fit the neural network model to the vectorized training data. Call the `fit()` method on the model object `nn_model` and specify the following arguments:\n",
    "\n",
    "1. The training data `X_train_tfidf` and `y_train` as arguments. Note that `X_train_tfidf` is currently of type sparce matrix. The Keras `fit()` method requires that input data be of specific types. One type that is allowed is a NumPy array. Convert `X_train_tfidf` to a NumPy array using the `toarray()` method.\n",
    "2. Use the `epochs` parameter and assign it the number of epochs.\n",
    "3. Use the `verbose` parameter and assign it the value of  0.\n",
    "4. We will use a portion of our training data to serve as validation data. Use the  `validation_split` parameter and assign it the value `0.2`\n",
    "5. Use the `callbacks` parameter and assign it a list containing our logger function: \n",
    "    `callbacks=[ProgBarLoggerNEpochs(num_epochs, every_n=5)]`  \n",
    "\n",
    "\n",
    "Save the results to the variable `history`.\n",
    "  \n",
    "<b>Note</b>: This may take a while to run."
   ]
  },
  {
   "cell_type": "code",
   "execution_count": 62,
   "metadata": {},
   "outputs": [
    {
     "name": "stdout",
     "output_type": "stream",
     "text": [
      "Epoch [5/ 55], Loss: 0.6918, Accuracy: 0.5173, Val_loss: 0.6947, Val_accuracy: 0.4595\n",
      "Epoch [10/ 55], Loss: 0.6803, Accuracy: 0.6171, Val_loss: 0.6901, Val_accuracy: 0.4595\n",
      "Epoch [15/ 55], Loss: 0.5891, Accuracy: 0.7760, Val_loss: 0.7256, Val_accuracy: 0.4595\n",
      "Epoch [20/ 55], Loss: 0.4702, Accuracy: 0.7608, Val_loss: 0.5916, Val_accuracy: 0.6655\n",
      "Epoch [25/ 55], Loss: 0.2760, Accuracy: 0.8960, Val_loss: 0.5115, Val_accuracy: 0.7365\n",
      "Epoch [30/ 55], Loss: 0.0449, Accuracy: 0.9992, Val_loss: 0.4923, Val_accuracy: 0.7568\n",
      "Epoch [35/ 55], Loss: 0.0085, Accuracy: 1.0000, Val_loss: 0.5602, Val_accuracy: 0.7703\n",
      "Epoch [40/ 55], Loss: 0.0039, Accuracy: 1.0000, Val_loss: 0.6024, Val_accuracy: 0.7635\n",
      "Epoch [45/ 55], Loss: 0.0024, Accuracy: 1.0000, Val_loss: 0.6243, Val_accuracy: 0.7669\n",
      "Epoch [50/ 55], Loss: 0.0017, Accuracy: 1.0000, Val_loss: 0.6216, Val_accuracy: 0.7568\n",
      "Epoch [55/ 55], Loss: 0.0013, Accuracy: 1.0000, Val_loss: 0.6502, Val_accuracy: 0.7669\n",
      "Elapsed time: 5.02s\n"
     ]
    }
   ],
   "source": [
    "t0 = time.time() # start time\n",
    "\n",
    "num_epochs = 55 # epochs\n",
    "\n",
    "X_train_array = X_train_tfidf.toarray()\n",
    "\n",
    "history = nn_model.fit(X_train_tfidf.toarray(), y_train, epochs=num_epochs, verbose=0, callbacks=[ProgBarLoggerNEpochs(num_epochs, every_n=5)], validation_split=0.2)\n",
    "\n",
    "t1 = time.time() # stop time\n",
    "\n",
    "print('Elapsed time: %.2fs' % (t1-t0))"
   ]
  },
  {
   "cell_type": "code",
   "execution_count": 63,
   "metadata": {},
   "outputs": [
    {
     "data": {
      "text/plain": [
       "dict_keys(['loss', 'accuracy', 'val_loss', 'val_accuracy'])"
      ]
     },
     "execution_count": 63,
     "metadata": {},
     "output_type": "execute_result"
    }
   ],
   "source": [
    "history.history.keys()"
   ]
  },
  {
   "cell_type": "markdown",
   "metadata": {},
   "source": [
    "### Visualize the Model's Performance Over Time\n",
    "\n",
    "The code below outputs both the training loss and accuracy and the validation loss and accuracy. Let us visualize the model's performance over time:"
   ]
  },
  {
   "cell_type": "code",
   "execution_count": 64,
   "metadata": {},
   "outputs": [
    {
     "data": {
      "image/png": "[encoded data removed]",
      "text/plain": [
       "<Figure size 640x480 with 1 Axes>"
      ]
     },
     "metadata": {},
     "output_type": "display_data"
    },
    {
     "data": {
      "image/png": "[encoded data removed]",
      "text/plain": [
       "<Figure size 640x480 with 1 Axes>"
      ]
     },
     "metadata": {},
     "output_type": "display_data"
    }
   ],
   "source": [
    "# Plot training and validation loss\n",
    "plt.plot(range(1, num_epochs + 1), history.history['loss'], label='Training Loss')\n",
    "plt.plot(range(1, num_epochs + 1), history.history['val_loss'], label='Validation Loss')\n",
    "\n",
    "plt.xlabel('Epoch')\n",
    "plt.ylabel('Loss')\n",
    "plt.legend()\n",
    "plt.show()\n",
    "\n",
    "\n",
    "# Plot training and validation accuracy\n",
    "plt.plot(range(1, num_epochs + 1), history.history['accuracy'], label='Training Accuracy')\n",
    "plt.plot(range(1, num_epochs + 1), history.history['val_accuracy'], label='Validation Accuracy')\n",
    "\n",
    "plt.xlabel('Epoch')\n",
    "plt.ylabel('Accuracy')\n",
    "plt.legend()\n",
    "plt.show()\n"
   ]
  },
  {
   "cell_type": "markdown",
   "metadata": {},
   "source": [
    "## Part 7. Evaluate the Model's Performance"
   ]
  },
  {
   "cell_type": "markdown",
   "metadata": {},
   "source": [
    "### Improve Model's Performance and Prevent Overfitting \n",
    "\n",
    "Neural networks can be prone to overfitting. Notice that the training accuracy is 100% but the validation accuracy is around 80%. This indicates that our model is overfitting; it will not perform as well on new, previously unseen data as it did during training. We want to have an accurate idea of how well our model will generalize to new data. Our goal is to have our training and validation accuracy scores be as close as possible.\n",
    "\n",
    "While there are different techniques that can be used to prevent overfitting, for the purpose of this exercise we will focus on two methods:\n",
    "\n",
    "1. Changing the number of epochs. Too many epochs can lead to overfitting of the training dataset, whereas too few epochs may result in underfitting.\n",
    "\n",
    "2. Adding dropout regularization. During training, the nodes of a particular layer may always become influenced only by the output of a particular node in the previous layer, causing overfitting. Dropout regularization is a technique that randomly drops a number of nodes in a neural network during training as a way of adding randomization and preventing nodes from becoming dependent on one another. Adding dropout regularization can reduce overfitting and also improve the performance of the model. \n",
    "\n",
    "<b>Task:</b> \n",
    "\n",
    "1. Tweak the variable `num_epochs` above and restart and rerun all of the cells above. Evaluate the performance of the model on the training data and the validation data.\n",
    "\n",
    "2. Add Keras `Dropout` layers after one or all hidden layers. Add the following line of code after you add a hidden layer to your model object:  `nn_model.add(keras.layers.Dropout(.25))`. The parameter `.25` is the fraction of the nodes to drop. You can experiment with this value as well. Restart and rerun all of the cells above. Evaluate the performance of the model on the training data and the validation data.\n",
    "\n",
    "\n",
    "<b>Analysis:</b> \n",
    "In the cell below, specify the different approaches you used to reduce overfitting and summarize which configuration led to the best generalization performance.\n",
    "\n",
    "Did changing the number of epochs prevent overfitting? Which value of `num_epochs` yielded the closest training and validation accuracy score? \n",
    "\n",
    "Did adding dropout layers prevent overfitting? How so? Did it also improve the accuracy score when evaluating the validation data? How many dropout layers did you add and which fraction of nodes did you drop? \n",
    "\n",
    "Record your findings in the cell below."
   ]
  },
  {
   "cell_type": "markdown",
   "metadata": {},
   "source": [
    "With the 55 epochs: \n",
    "Epoch [5/ 55], Loss: 0.6890, Accuracy: 0.5613, Val_loss: 0.6971, Val_accuracy: 0.4595\n",
    "Epoch [10/ 55], Loss: 0.6627, Accuracy: 0.6568, Val_loss: 0.6724, Val_accuracy: 0.5405\n",
    "Epoch [15/ 55], Loss: 0.5577, Accuracy: 0.7447, Val_loss: 0.8092, Val_accuracy: 0.5405\n",
    "Epoch [20/ 55], Loss: 0.4287, Accuracy: 0.7819, Val_loss: 0.4984, Val_accuracy: 0.7399\n",
    "Epoch [25/ 55], Loss: 0.1680, Accuracy: 0.9484, Val_loss: 0.4512, Val_accuracy: 0.7905\n",
    "Epoch [30/ 55], Loss: 0.0168, Accuracy: 1.0000, Val_loss: 0.4794, Val_accuracy: 0.7872\n",
    "Epoch [35/ 55], Loss: 0.0056, Accuracy: 1.0000, Val_loss: 0.5263, Val_accuracy: 0.7736\n",
    "Epoch [40/ 55], Loss: 0.0030, Accuracy: 1.0000, Val_loss: 0.5535, Val_accuracy: 0.7736\n",
    "Epoch [45/ 55], Loss: 0.0019, Accuracy: 1.0000, Val_loss: 0.5723, Val_accuracy: 0.7736\n",
    "Epoch [50/ 55], Loss: 0.0014, Accuracy: 1.0000, Val_loss: 0.5941, Val_accuracy: 0.7703\n",
    "Epoch [55/ 55], Loss: 0.0011, Accuracy: 1.0000, Val_loss: 0.6107, Val_accuracy: 0.7703\n",
    "Elapsed time: 5.16s\n",
    "\n",
    "As too many epochs can lead to overfitting we will decrease it to 45:\n",
    "Epoch [5/ 45], Loss: 0.0009, Accuracy: 1.0000, Val_loss: 0.6128, Val_accuracy: 0.7703\n",
    "Epoch [10/ 45], Loss: 0.0007, Accuracy: 1.0000, Val_loss: 0.6336, Val_accuracy: 0.7669\n",
    "Epoch [15/ 45], Loss: 0.0006, Accuracy: 1.0000, Val_loss: 0.6307, Val_accuracy: 0.7703\n",
    "Epoch [20/ 45], Loss: 0.0005, Accuracy: 1.0000, Val_loss: 0.6438, Val_accuracy: 0.7703\n",
    "Epoch [25/ 45], Loss: 0.0005, Accuracy: 1.0000, Val_loss: 0.6469, Val_accuracy: 0.7703\n",
    "Epoch [30/ 45], Loss: 0.0004, Accuracy: 1.0000, Val_loss: 0.6522, Val_accuracy: 0.7703\n",
    "Epoch [35/ 45], Loss: 0.0004, Accuracy: 1.0000, Val_loss: 0.6598, Val_accuracy: 0.7703\n",
    "Epoch [40/ 45], Loss: 0.0003, Accuracy: 1.0000, Val_loss: 0.6646, Val_accuracy: 0.7703\n",
    "Epoch [45/ 45], Loss: 0.0003, Accuracy: 1.0000, Val_loss: 0.6675, Val_accuracy: 0.7703\n",
    "Elapsed time: 3.81s\n",
    "\n",
    "The chart is what shows the change more: with the 45 epochs the training loss is at 0 and the training accuracy is at 100 with the validation the loss hovering around a similar place the two charts look different.\n",
    "\n",
    "30:\n",
    "Epoch [5/ 30], Loss: 0.0003, Accuracy: 1.0000, Val_loss: 0.6729, Val_accuracy: 0.7703\n",
    "Epoch [10/ 30], Loss: 0.0003, Accuracy: 1.0000, Val_loss: 0.6758, Val_accuracy: 0.7703\n",
    "Epoch [15/ 30], Loss: 0.0002, Accuracy: 1.0000, Val_loss: 0.6803, Val_accuracy: 0.7703\n",
    "Epoch [20/ 30], Loss: 0.0002, Accuracy: 1.0000, Val_loss: 0.6857, Val_accuracy: 0.7703\n",
    "Epoch [25/ 30], Loss: 0.0002, Accuracy: 1.0000, Val_loss: 0.6891, Val_accuracy: 0.7703\n",
    "Epoch [30/ 30], Loss: 0.0002, Accuracy: 1.0000, Val_loss: 0.6924, Val_accuracy: 0.7703\n",
    "Elapsed time: 2.69s\n",
    "\n",
    "the elapsed time continues to decrease with the number of epochs but the accuracy is not improving.\n",
    "\n",
    "15:\n",
    "Epoch [5/ 15], Loss: 0.0002, Accuracy: 1.0000, Val_loss: 0.6956, Val_accuracy: 0.7703\n",
    "Epoch [10/ 15], Loss: 0.0002, Accuracy: 1.0000, Val_loss: 0.6979, Val_accuracy: 0.7703\n",
    "Epoch [15/ 15], Loss: 0.0002, Accuracy: 1.0000, Val_loss: 0.7012, Val_accuracy: 0.7703\n",
    "Elapsed time: 1.52s\n",
    "\n",
    "Now adding dropouts and returning to 55 epochs:\n",
    "Epoch [5/ 55], Loss: 0.6918, Accuracy: 0.5182, Val_loss: 0.6950, Val_accuracy: 0.4595\n",
    "Epoch [10/ 55], Loss: 0.6788, Accuracy: 0.6458, Val_loss: 0.6850, Val_accuracy: 0.6959\n",
    "Epoch [15/ 55], Loss: 0.5842, Accuracy: 0.7743, Val_loss: 0.6159, Val_accuracy: 0.7264\n",
    "Epoch [20/ 55], Loss: 0.4811, Accuracy: 0.7819, Val_loss: 0.7901, Val_accuracy: 0.4932\n",
    "Epoch [25/ 55], Loss: 0.3310, Accuracy: 0.8631, Val_loss: 1.1973, Val_accuracy: 0.4696\n",
    "Epoch [30/ 55], Loss: 0.2627, Accuracy: 0.8910, Val_loss: 1.1750, Val_accuracy: 0.5541\n",
    "Epoch [35/ 55], Loss: 0.2899, Accuracy: 0.8986, Val_loss: 0.5475, Val_accuracy: 0.7399\n",
    "Epoch [40/ 55], Loss: 0.0167, Accuracy: 1.0000, Val_loss: 0.5197, Val_accuracy: 0.7736\n",
    "Epoch [45/ 55], Loss: 0.0064, Accuracy: 1.0000, Val_loss: 0.5617, Val_accuracy: 0.7669\n",
    "Epoch [50/ 55], Loss: 0.0040, Accuracy: 1.0000, Val_loss: 0.5968, Val_accuracy: 0.7703\n",
    "Epoch [55/ 55], Loss: 0.0024, Accuracy: 1.0000, Val_loss: 0.6156, Val_accuracy: 0.7635\n",
    "Elapsed time: 4.90s\n",
    "\n",
    "the accuracy hits a low point in the middle.\n",
    "\n",
    "After adding two dropouts after hidden 1 and 3 we see a more noticable increase in accurary:\n",
    "Epoch [5/ 55], Loss: 0.6919, Accuracy: 0.5182, Val_loss: 0.6951, Val_accuracy: 0.4595\n",
    "Epoch [10/ 55], Loss: 0.6803, Accuracy: 0.5875, Val_loss: 0.6895, Val_accuracy: 0.4595\n",
    "Epoch [15/ 55], Loss: 0.6096, Accuracy: 0.7067, Val_loss: 0.6336, Val_accuracy: 0.7365\n",
    "Epoch [20/ 55], Loss: 0.5237, Accuracy: 0.7287, Val_loss: 0.6106, Val_accuracy: 0.6385\n",
    "Epoch [25/ 55], Loss: 0.3358, Accuracy: 0.8673, Val_loss: 0.4750, Val_accuracy: 0.7703\n",
    "Epoch [30/ 55], Loss: 0.2673, Accuracy: 0.9062, Val_loss: 0.5246, Val_accuracy: 0.7095\n",
    "Epoch [35/ 55], Loss: 0.2788, Accuracy: 0.9146, Val_loss: 0.5544, Val_accuracy: 0.7196\n",
    "Epoch [40/ 55], Loss: 0.0366, Accuracy: 0.9915, Val_loss: 3.0762, Val_accuracy: 0.4595\n",
    "Epoch [45/ 55], Loss: 0.4285, Accuracy: 0.8098, Val_loss: 0.4941, Val_accuracy: 0.7601\n",
    "Epoch [50/ 55], Loss: 0.3497, Accuracy: 0.8766, Val_loss: 0.4579, Val_accuracy: 0.7872\n",
    "Epoch [55/ 55], Loss: 0.0236, Accuracy: 0.9992, Val_loss: 0.5408, Val_accuracy: 0.7905\n",
    "Elapsed time: 4.93s\n",
    "\n",
    "this is the highest accuracy i've discovered\n",
    "decreasing the epoch with these hidden layers leads to decreased accuracy and adding a third dropout decreasing the accuracy further."
   ]
  },
  {
   "cell_type": "markdown",
   "metadata": {},
   "source": [
    "### Evaluate the Performance on the Test Set"
   ]
  },
  {
   "cell_type": "markdown",
   "metadata": {},
   "source": [
    "Now that you have improved the model, let's evaluate its performance on our test data and compare the results."
   ]
  },
  {
   "cell_type": "markdown",
   "metadata": {},
   "source": [
    "<b>Task:</b> In the code cell below, call the  `evaluate()` method on the model object `nn_model`. Specify `X_test_tfidf` and `y_test` as arguments. You must convert `X_test_tfidf` to a NumPy array using the `toarray()` method. \n",
    "\n",
    "Note: The `evaluate()` method returns a list containing two values. The first value is the loss and the second value is the accuracy score.\n"
   ]
  },
  {
   "cell_type": "code",
   "execution_count": 65,
   "metadata": {},
   "outputs": [
    {
     "name": "stdout",
     "output_type": "stream",
     "text": [
      "16/16 [==============================] - 0s 993us/step - loss: 0.5403 - accuracy: 0.8057\n",
      "Loss:  0.5403370261192322 Accuracy:  0.8056679964065552\n"
     ]
    }
   ],
   "source": [
    "loss, accuracy = nn_model.evaluate(X_test_tfidf.toarray(), y_test)\n",
    "\n",
    "print('Loss: ', str(loss) , 'Accuracy: ', str(accuracy))"
   ]
  },
  {
   "cell_type": "markdown",
   "metadata": {},
   "source": [
    "### Make Predictions on the Test Set"
   ]
  },
  {
   "cell_type": "markdown",
   "metadata": {},
   "source": [
    "Now that we have our best performing model that can generalize to new, previously unseen data, let us make predictions using our test data.\n",
    "\n",
    "In the cell below, we will make a prediction on our test set and receive probability predictions for every example in the test set (these values will be between 0.0 and 1.0). We will then inspect the results for the first 20 examples &mdash; We will apply a threshold to determine the predicted class for every example; we will use a threshold of 0.5. This means that if the probability is greater than 0.5, we will assume the book review is good. We will then print the actual class labels contained in `y_test` to see if our model is producing accurate predictions.\n",
    "\n",
    "<b>Task: </b> In the code cell below, do the following:\n",
    "\n",
    "1. Call the  `predict()` method on the model object `nn_model`. Specify `X_test_tfidf` as an argument. You must convert `X_test_tfidf` to a NumPy array using the `toarray()` method. Save the results to the array `probability_predictions`.\n",
    "2. Loop through the first 20 items in `probability_predictions`. These correspond to the predicted probabilities for the first 20 examples in our test set. For every item, check if the probability is greater than 0.5. If so, output:\n",
    "* the probability value in `probability_predictions`\n",
    "* the corresponding label in `y_test`. Note: convert the series `y_test` using `y_test.to_numpy()` before indexing into it.\n",
    "\n",
    "Inspect the results. How is our model performing? Is our model properly predicting whether the book reviews are good or bad reviews?"
   ]
  },
  {
   "cell_type": "code",
   "execution_count": 66,
   "metadata": {},
   "outputs": [
    {
     "name": "stdout",
     "output_type": "stream",
     "text": [
      "Predictions for the first 20 examples:\n",
      "Predicted Probability: 0.9990, Actual Label: True\n",
      "Predicted Probability: 0.9818, Actual Label: True\n",
      "Predicted Probability: 0.6832, Actual Label: True\n",
      "Predicted Probability: 0.9907, Actual Label: True\n",
      "Predicted Probability: 0.6912, Actual Label: False\n",
      "Predicted Probability: 0.9986, Actual Label: True\n",
      "Predicted Probability: 0.9981, Actual Label: True\n"
     ]
    }
   ],
   "source": [
    "# Make predictions on the test set\n",
    "probability_predictions = nn_model.predict(X_test_tfidf.toarray())\n",
    "\n",
    "print(\"Predictions for the first 20 examples:\")\n",
    "\n",
    "y_test_array = y_test.to_numpy()\n",
    "for i in range(20):\n",
    "    probability = probability_predictions[i][0]\n",
    "    actual_label = y_test_array[i]\n",
    "    \n",
    "    if probability > 0.5:\n",
    "        print(f\"Predicted Probability: {probability:.4f}, Actual Label: {actual_label}\")"
   ]
  },
  {
   "cell_type": "markdown",
   "metadata": {},
   "source": [
    "Let's check a few of the original book review texts to get a further glimpse into how our model is performing."
   ]
  },
  {
   "cell_type": "code",
   "execution_count": 67,
   "metadata": {},
   "outputs": [
    {
     "name": "stdout",
     "output_type": "stream",
     "text": [
      "Review #1:\n",
      "\n",
      "Ethan Mordden's editors have allowed him to ruin what could possibly have been a good book.  This is the worst of his books on the various decades of the Broadway musical as the faults of the seventies book have widened into gulfs.  His political ramblings (often just slightly right of Ann Coulter and making as much sense) seep through the book, dragging it down.  The French people are slammed a number of times, along with the ACLU, Burt Lancaster (apparently, according to Ethan a good friend of Stalin) and the left in general, while the author defends Bush (and it does take some looking back over the page to figure out how he fits all this into a book on musical theatre).  The author's train of thought wanders like a bitter old man  all over the page in search of a target, any target.  It is often hard to stomach.  The truly sad fact about this is that the author often has quite cogent things to say about a particular musical and when he does stick to that, it can actually make one want to look at the work again.  An editor should have cleaned the work up before before allowing it on stage to greet its public.  The author is capable of better work\n",
      "\n",
      "\n",
      "Prediction: Is this a good review? False\n",
      "\n",
      "Actual: Is this a good review? False\n",
      "\n"
     ]
    }
   ],
   "source": [
    "print('Review #1:\\n')\n",
    "\n",
    "print(X_test.to_numpy()[11])\n",
    "\n",
    "goodReview = True if probability_predictions[11] >= .5 else False\n",
    "    \n",
    "print('\\nPrediction: Is this a good review? {}\\n'.format(goodReview))\n",
    "\n",
    "print('Actual: Is this a good review? {}\\n'.format(y_test.to_numpy()[11]))"
   ]
  },
  {
   "cell_type": "code",
   "execution_count": 68,
   "metadata": {},
   "outputs": [
    {
     "name": "stdout",
     "output_type": "stream",
     "text": [
      "Review #2:\n",
      "\n",
      "This book still does not address many areas I find interesting in James Brown's career but I find it a natural companion to the three other JB books in my collection: Cynthia Rose's \"Living In America: The Soul Saga Of James Brown\"; Geoff Brown's biography \"James Brown\"; and ofcourse, the Brown/Tucker \"The Godfather Of Soul - James Brown\". All three dig deep into this metaphysical musician's mind but this one has a stronger narrative, a bit less guarded: his late '80s fall is described in a more contrite way, for example. His scientific study of his audience is perhaps something new in his dialogue - but he broaches the subject of how music motivates women in a different way than it does men, then immediately moves on to the next thought. Even by 2005 standards his live albums contain some of the most overt sexuality, obviously directed at the female fans, ever recorded. Similarly, his admonitions to admonishes contemporary rap/hip-hop artists are eloquent but must be deemed a bit self-righteous: there is alot of \"adult\" content in his catalogue which can't be explained away as \"art\". However, fans can trace his development into more \"cerebral\" music, with more and more sensitive ballads and socially-conscious tunes being produced  from the late '60s on.\n",
      "I was happy to read his description of Little Richard's assistance in his early career, but a bit disheartened when he suggested that Penniman was basically a Rock and Roll raver - I find it hard to believe that this publication brought out his true feelings about his Georgia neighbor - the influence is quite obvious and not just on \"Chonnie On Chon\". Another depressing ommission is with Marva Whitney, his popular lead female vocalist from c.'67 to '70. A recent documentary reveals that Marva traveled To Vietnam with the star but here he simply says that he was only allowed to travel with a small part of his musical backup.  \n",
      "Despite the above concerns, with this book James Brown has shown the literary world that he is a writer. Ofcourse this was obvious to the musical world - just listen to \"Don't Be A Drop Out\", \"I Don't Want Nobody To Give Me Nothing\", \"The Man In The Glass\", \"I'm Not Demanding\", \"It's Christmas Time\", and \"Peace In The World\"\n",
      "\n",
      "\n",
      "Prediction: Is this a good review? False\n",
      "\n",
      "Actual: Is this a good review? True\n",
      "\n"
     ]
    }
   ],
   "source": [
    "print('Review #2:\\n')\n",
    "\n",
    "print(X_test.to_numpy()[24])\n",
    "\n",
    "goodReview = True if probability_predictions[24] >= .5 else False\n",
    "\n",
    "print('\\nPrediction: Is this a good review? {}\\n'.format(goodReview)) \n",
    "\n",
    "print('Actual: Is this a good review? {}\\n'.format(y_test.to_numpy()[24]))"
   ]
  },
  {
   "cell_type": "code",
   "execution_count": 69,
   "metadata": {},
   "outputs": [
    {
     "name": "stdout",
     "output_type": "stream",
     "text": [
      "Review #3:\n",
      "\n",
      "I am a prekindergarten teacher. This book is a favorite of all of my students both boys and girls.  The story has an important moral that all children can learn from.  The moral is to be yourself and that you do not need to copy others.  Stephanie not only does her own thing but stands up for herself.  This story gives children the courage to stand up for themselves and to be an individual\n",
      "\n",
      "\n",
      "Prediction: Is this a good review? True\n",
      "\n",
      "Actual: Is this a good review? True\n",
      "\n"
     ]
    }
   ],
   "source": [
    "print('Review #3:\\n')\n",
    "\n",
    "print(X_test.to_numpy()[56])\n",
    "\n",
    "goodReview = True if probability_predictions[56] >= .5 else False\n",
    "    \n",
    "print('\\nPrediction: Is this a good review? {}\\n'.format(goodReview))\n",
    "\n",
    "print('Actual: Is this a good review? {}\\n'.format(y_test.to_numpy()[56]))"
   ]
  },
  {
   "cell_type": "code",
   "execution_count": 70,
   "metadata": {},
   "outputs": [
    {
     "name": "stdout",
     "output_type": "stream",
     "text": [
      "Review #4:\n",
      "\n",
      "I tell my life coaching clients that even one of these poems makes for an loving guide as to how to live your life.  Her poem, Mindful, eloquently points the way to a life of joy and fullness for anyone.  Yes\n",
      "\n",
      "\n",
      "Prediction: Is this a good review? True\n",
      "\n",
      "Actual: Is this a good review? True\n",
      "\n"
     ]
    }
   ],
   "source": [
    "print('Review #4:\\n')\n",
    "print(X_test.to_numpy()[102])\n",
    "\n",
    "goodReview = True if probability_predictions[102] >= .5 else False\n",
    "    \n",
    "print('\\nPrediction: Is this a good review? {}\\n'.format(goodReview))\n",
    "\n",
    "print('Actual: Is this a good review? {}\\n'.format(y_test.to_numpy()[102]))"
   ]
  },
  {
   "cell_type": "markdown",
   "metadata": {},
   "source": [
    "## Part 8: Analysis\n",
    "\n",
    "Experiment with the vectorizer and neural network implementation above and compare your results every time you train the network. Pay attention to the time it takes to train the network, and the resulting loss and accuracy on both the training and test data. \n",
    "\n",
    "Below are some ideas for things you can try:\n",
    "\n",
    "* Adjust the learning rate.\n",
    "* Add more hidden layers and/or experiment with different values for the `unit` parameter in the hidden layers to change the number of nodes in the hidden layers.\n",
    "* Fit your vectorizer using different document frequency values and different n-gram ranges. When creating a `TfidfVectorizer` object, use the parameter `min_df` to specify the minimum 'document frequency' and use `ngram_range=(1,2)` to change the default n-gram range of `(1,1)`.\n",
    "\n",
    "Record your findings in the cell below.\n"
   ]
  },
  {
   "cell_type": "markdown",
   "metadata": {},
   "source": [
    "So with the current values: Loss:  0.5179884433746338 Accuracy:  0.8137651681900024\n",
    "\n",
    "While changing the learning rate from 0.1 to 0.3:\n",
    "Elapsed time: 5.23s\n",
    "Loss:  0.6644378900527954 Accuracy:  0.8259109258651733\n",
    "\n",
    "While adding another hidden layer with a unit of 8:\n",
    "Elapsed time: 5.05s\n",
    "Loss:  0.6935291886329651 Accuracy:  0.49595141410827637\n",
    "\n",
    "while also adding the ngram_range parameter to the TfidfVectorizer:\n",
    "Elapsed time: 23.46s\n",
    "Loss:  0.6943014860153198 Accuracy:  0.4979757070541382\n",
    "\n",
    "So it seems that the learning rate increase is what helps improve the accuracy the most"
   ]
  },
  {
   "cell_type": "code",
   "execution_count": null,
   "metadata": {},
   "outputs": [],
   "source": []
  }
 ],
 "metadata": {
  "kernelspec": {
   "display_name": "Python 3 (ipykernel)",
   "language": "python",
   "name": "python3"
  },
  "language_info": {
   "codemirror_mode": {
    "name": "ipython",
    "version": 3
   },
   "file_extension": ".py",
   "mimetype": "text/x-python",
   "name": "python",
   "nbconvert_exporter": "python",
   "pygments_lexer": "ipython3",
   "version": "3.9.19"
  },
  "toc": {
   "base_numbering": 1,
   "nav_menu": {},
   "number_sections": false,
   "sideBar": true,
   "skip_h1_title": false,
   "title_cell": "Table of Contents",
   "title_sidebar": "Contents",
   "toc_cell": false,
   "toc_position": {},
   "toc_section_display": true,
   "toc_window_display": false
  },
  "varInspector": {
   "cols": {
    "lenName": 16,
    "lenType": 16,
    "lenVar": 40
   },
   "kernels_config": {
    "python": {
     "delete_cmd_postfix": "",
     "delete_cmd_prefix": "del ",
     "library": "var_list.py",
     "varRefreshCmd": "print(var_dic_list())"
    },
    "r": {
     "delete_cmd_postfix": ") ",
     "delete_cmd_prefix": "rm(",
     "library": "var_list.r",
     "varRefreshCmd": "cat(var_dic_list()) "
    }
   },
   "types_to_exclude": [
    "module",
    "function",
    "builtin_function_or_method",
    "instance",
    "_Feature"
   ],
   "window_display": false
  }
 },
 "nbformat": 4,
 "nbformat_minor": 4
}
